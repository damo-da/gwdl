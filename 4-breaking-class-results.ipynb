{
 "cells": [
  {
   "cell_type": "markdown",
   "id": "57e279da-2992-48d5-ace4-ae421f69e8d2",
   "metadata": {},
   "source": [
    "# Analyzing classification result"
   ]
  },
  {
   "cell_type": "code",
   "execution_count": 194,
   "id": "1e5597b1-b1a0-4015-b2b2-3f539435a3dc",
   "metadata": {},
   "outputs": [],
   "source": [
    "import logging\n",
    "import pickle\n",
    "\n",
    "import matplotlib.pyplot as plt\n",
    "import numpy as np\n",
    "import pandas as pd\n",
    "\n",
    "from mne.decoding import CSP\n",
    "\n",
    "mne_logger = logging.getLogger('mne')\n",
    "mne_logger.setLevel(logging.ERROR)"
   ]
  },
  {
   "cell_type": "code",
   "execution_count": 195,
   "id": "8eb6d6b1-a92b-41ed-8446-29f165c00329",
   "metadata": {},
   "outputs": [],
   "source": [
    "from sklearn.model_selection import RepeatedKFold\n",
    "from sklearn.model_selection import train_test_split\n",
    "from sklearn.pipeline import make_pipeline\n",
    "from sklearn.preprocessing import StandardScaler\n",
    "from sklearn.svm import SVC\n",
    "from sklearn.preprocessing import FunctionTransformer\n",
    "from sklearn.linear_model import LogisticRegression\n",
    "from sklearn.preprocessing import FunctionTransformer\n",
    "from sklearn.discriminant_analysis import LinearDiscriminantAnalysis as LDA"
   ]
  },
  {
   "cell_type": "code",
   "execution_count": 196,
   "id": "74f509ab-bfdd-42b8-abab-4507b0602133",
   "metadata": {},
   "outputs": [],
   "source": [
    "import conf\n",
    "import utils\n",
    "import transforms as trans"
   ]
  },
  {
   "cell_type": "markdown",
   "id": "1e3368f3-cd01-432e-a374-673c4c938735",
   "metadata": {},
   "source": [
    "## Building and running the best pipeline (`csp_svm`)"
   ]
  },
  {
   "cell_type": "markdown",
   "id": "0b26b767-862e-4a01-b7d5-42864230292a",
   "metadata": {},
   "source": [
    "Next, we run the best pipeline once which we have developed which provided 85.3%\n",
    "accuracy previously."
   ]
  },
  {
   "cell_type": "code",
   "execution_count": 197,
   "id": "30009cd7-f4d9-4a04-854a-25d36c40beef",
   "metadata": {},
   "outputs": [],
   "source": [
    "# Load our dataset\n",
    "with (conf.DATA_DIR / \"filteredX.pickle\").open(\"rb\") as f:\n",
    "  filteredX = pickle.load(f)\n",
    "  \n",
    "with (conf.DATA_DIR / \"y.npy\").open(\"rb\") as f:\n",
    "  y = pickle.load(f)"
   ]
  },
  {
   "cell_type": "code",
   "execution_count": 198,
   "id": "3e519585-58ce-4860-9b65-c468c8b18adb",
   "metadata": {},
   "outputs": [],
   "source": [
    "best_start = conf.dT - 0.1\n",
    "\n",
    "window_length = 0.3\n",
    "\n",
    "clf = make_pipeline(\n",
    "  trans.GetWindow(best_start, best_start + window_length),\n",
    "  trans.NpArrayTransform,\n",
    "  CSP(),\n",
    "  SVC(gamma='auto'),\n",
    ")"
   ]
  },
  {
   "cell_type": "code",
   "execution_count": 200,
   "id": "2d89ca26-098b-4a3d-b1ff-2e4e1df2884a",
   "metadata": {},
   "outputs": [],
   "source": [
    "clf.fit(filteredX, y); pass"
   ]
  },
  {
   "cell_type": "code",
   "execution_count": 201,
   "id": "b1ea3a08-d790-4e5f-bfd5-ec44ea2703b6",
   "metadata": {},
   "outputs": [],
   "source": [
    "y_hat = clf.predict(filteredX)"
   ]
  },
  {
   "cell_type": "markdown",
   "id": "ca9d56b4-eaf5-4e17-8308-5d8d9e2cf217",
   "metadata": {},
   "source": [
    "## Obtaining GWOSC Parameter Estimations for detected coalescenses"
   ]
  },
  {
   "cell_type": "code",
   "execution_count": 208,
   "id": "4791c190-9cdc-45c7-bbc7-da1e521cdca6",
   "metadata": {},
   "outputs": [],
   "source": [
    "# Get the GWOSC catalog containing estimated parameters\n",
    "\n",
    "confident = pd.read_csv(\"https://www.gw-openscience.org/eventapi/csv/allevents/\")"
   ]
  },
  {
   "cell_type": "code",
   "execution_count": 209,
   "id": "e1579bec-f004-4084-8fac-01950724d6b0",
   "metadata": {},
   "outputs": [
    {
     "data": {
      "text/html": [
       "<div>\n",
       "<style scoped>\n",
       "    .dataframe tbody tr th:only-of-type {\n",
       "        vertical-align: middle;\n",
       "    }\n",
       "\n",
       "    .dataframe tbody tr th {\n",
       "        vertical-align: top;\n",
       "    }\n",
       "\n",
       "    .dataframe thead th {\n",
       "        text-align: right;\n",
       "    }\n",
       "</style>\n",
       "<table border=\"1\" class=\"dataframe\">\n",
       "  <thead>\n",
       "    <tr style=\"text-align: right;\">\n",
       "      <th></th>\n",
       "      <th>id</th>\n",
       "      <th>commonName</th>\n",
       "      <th>version</th>\n",
       "      <th>catalog.shortName</th>\n",
       "      <th>GPS</th>\n",
       "      <th>reference</th>\n",
       "      <th>jsonurl</th>\n",
       "      <th>mass_1_source</th>\n",
       "      <th>mass_1_source_lower</th>\n",
       "      <th>mass_1_source_upper</th>\n",
       "      <th>...</th>\n",
       "      <th>redshift_upper</th>\n",
       "      <th>far</th>\n",
       "      <th>far_lower</th>\n",
       "      <th>far_upper</th>\n",
       "      <th>p_astro</th>\n",
       "      <th>p_astro_lower</th>\n",
       "      <th>p_astro_upper</th>\n",
       "      <th>final_mass_source</th>\n",
       "      <th>final_mass_source_lower</th>\n",
       "      <th>final_mass_source_upper</th>\n",
       "    </tr>\n",
       "  </thead>\n",
       "  <tbody>\n",
       "    <tr>\n",
       "      <th>0</th>\n",
       "      <td>151008-v1</td>\n",
       "      <td>151008</td>\n",
       "      <td>1</td>\n",
       "      <td>GWTC-1-marginal</td>\n",
       "      <td>1.128349e+09</td>\n",
       "      <td>https://doi.org/10.7935/82H3-HH23</td>\n",
       "      <td>https://www.gw-openscience.org/eventapi/json/G...</td>\n",
       "      <td>NaN</td>\n",
       "      <td>NaN</td>\n",
       "      <td>NaN</td>\n",
       "      <td>...</td>\n",
       "      <td>NaN</td>\n",
       "      <td>10.17</td>\n",
       "      <td>NaN</td>\n",
       "      <td>NaN</td>\n",
       "      <td>NaN</td>\n",
       "      <td>NaN</td>\n",
       "      <td>NaN</td>\n",
       "      <td>NaN</td>\n",
       "      <td>NaN</td>\n",
       "      <td>NaN</td>\n",
       "    </tr>\n",
       "    <tr>\n",
       "      <th>1</th>\n",
       "      <td>151012.2-v1</td>\n",
       "      <td>151012.2</td>\n",
       "      <td>1</td>\n",
       "      <td>GWTC-1-marginal</td>\n",
       "      <td>1.128667e+09</td>\n",
       "      <td>https://doi.org/10.7935/82H3-HH23</td>\n",
       "      <td>https://www.gw-openscience.org/eventapi/json/G...</td>\n",
       "      <td>NaN</td>\n",
       "      <td>NaN</td>\n",
       "      <td>NaN</td>\n",
       "      <td>...</td>\n",
       "      <td>NaN</td>\n",
       "      <td>8.56</td>\n",
       "      <td>NaN</td>\n",
       "      <td>NaN</td>\n",
       "      <td>NaN</td>\n",
       "      <td>NaN</td>\n",
       "      <td>NaN</td>\n",
       "      <td>NaN</td>\n",
       "      <td>NaN</td>\n",
       "      <td>NaN</td>\n",
       "    </tr>\n",
       "    <tr>\n",
       "      <th>2</th>\n",
       "      <td>151116-v1</td>\n",
       "      <td>151116</td>\n",
       "      <td>1</td>\n",
       "      <td>GWTC-1-marginal</td>\n",
       "      <td>1.131749e+09</td>\n",
       "      <td>https://doi.org/10.7935/82H3-HH23</td>\n",
       "      <td>https://www.gw-openscience.org/eventapi/json/G...</td>\n",
       "      <td>NaN</td>\n",
       "      <td>NaN</td>\n",
       "      <td>NaN</td>\n",
       "      <td>...</td>\n",
       "      <td>NaN</td>\n",
       "      <td>4.77</td>\n",
       "      <td>NaN</td>\n",
       "      <td>NaN</td>\n",
       "      <td>NaN</td>\n",
       "      <td>NaN</td>\n",
       "      <td>NaN</td>\n",
       "      <td>NaN</td>\n",
       "      <td>NaN</td>\n",
       "      <td>NaN</td>\n",
       "    </tr>\n",
       "  </tbody>\n",
       "</table>\n",
       "<p>3 rows × 43 columns</p>\n",
       "</div>"
      ],
      "text/plain": [
       "            id commonName  version catalog.shortName           GPS  \\\n",
       "0    151008-v1     151008        1   GWTC-1-marginal  1.128349e+09   \n",
       "1  151012.2-v1   151012.2        1   GWTC-1-marginal  1.128667e+09   \n",
       "2    151116-v1     151116        1   GWTC-1-marginal  1.131749e+09   \n",
       "\n",
       "                           reference  \\\n",
       "0  https://doi.org/10.7935/82H3-HH23   \n",
       "1  https://doi.org/10.7935/82H3-HH23   \n",
       "2  https://doi.org/10.7935/82H3-HH23   \n",
       "\n",
       "                                             jsonurl  mass_1_source  \\\n",
       "0  https://www.gw-openscience.org/eventapi/json/G...            NaN   \n",
       "1  https://www.gw-openscience.org/eventapi/json/G...            NaN   \n",
       "2  https://www.gw-openscience.org/eventapi/json/G...            NaN   \n",
       "\n",
       "   mass_1_source_lower  mass_1_source_upper  ...  redshift_upper    far  \\\n",
       "0                  NaN                  NaN  ...             NaN  10.17   \n",
       "1                  NaN                  NaN  ...             NaN   8.56   \n",
       "2                  NaN                  NaN  ...             NaN   4.77   \n",
       "\n",
       "   far_lower  far_upper  p_astro  p_astro_lower  p_astro_upper  \\\n",
       "0        NaN        NaN      NaN            NaN            NaN   \n",
       "1        NaN        NaN      NaN            NaN            NaN   \n",
       "2        NaN        NaN      NaN            NaN            NaN   \n",
       "\n",
       "   final_mass_source  final_mass_source_lower  final_mass_source_upper  \n",
       "0                NaN                      NaN                      NaN  \n",
       "1                NaN                      NaN                      NaN  \n",
       "2                NaN                      NaN                      NaN  \n",
       "\n",
       "[3 rows x 43 columns]"
      ]
     },
     "execution_count": 209,
     "metadata": {},
     "output_type": "execute_result"
    }
   ],
   "source": [
    "confident.loc[:2]"
   ]
  },
  {
   "cell_type": "markdown",
   "id": "a250423d-9fef-47da-a958-94b5859fb0e9",
   "metadata": {},
   "source": [
    "## Preparing the extended catalog"
   ]
  },
  {
   "cell_type": "markdown",
   "id": "28195a48-ee62-47a9-a59a-64edfc60b790",
   "metadata": {},
   "source": [
    "Next, we merge our catalog, the parameter estimations and the predictions to\n",
    "form an extended catalog, `xcatalog`."
   ]
  },
  {
   "cell_type": "code",
   "execution_count": 210,
   "id": "eca61201-5dba-4fc1-94ac-890474823eb0",
   "metadata": {},
   "outputs": [],
   "source": [
    "catalog = pd.read_csv(conf.DATA_DIR / \"catalog.csv\")\n",
    "\n",
    "# Extended catalog to include confident information\n",
    "xcatalog = catalog.reset_index().merge(confident, left_on=\"event\", right_on=\"id\", indicator=True)\n",
    "del xcatalog[\"id\"]"
   ]
  },
  {
   "cell_type": "code",
   "execution_count": 211,
   "id": "b0322327-6f8e-4296-9939-809541a845ad",
   "metadata": {},
   "outputs": [],
   "source": [
    "xcatalog[\"prediction\"] = y_hat[xcatalog[\"index\"]]"
   ]
  },
  {
   "cell_type": "markdown",
   "id": "41611716-9563-4bd1-b5ea-2e50756a7fa1",
   "metadata": {},
   "source": [
    "## Data Analysis"
   ]
  },
  {
   "cell_type": "markdown",
   "id": "467e7b71-4fd8-4d33-8539-cad6474a6741",
   "metadata": {},
   "source": [
    "### Signal to noise ratio"
   ]
  },
  {
   "cell_type": "code",
   "execution_count": 214,
   "id": "03c0d36d-5d6f-4ae9-86d5-3293a51a8c05",
   "metadata": {},
   "outputs": [
    {
     "data": {
      "image/png": "[encoded data removed]",
      "text/plain": [
       "<Figure size 432x288 with 2 Axes>"
      ]
     },
     "metadata": {
      "needs_background": "light"
     },
     "output_type": "display_data"
    }
   ],
   "source": [
    "y = \"network_matched_filter_snr\"\n",
    "yerr = xcatalog[[f\"{y}_lower\", f\"{y}_upper\"]]\n",
    "yerr = yerr.to_numpy().T\n",
    "\n",
    "xcatalog.plot.scatter(\n",
    "  x=\"index\",\n",
    "  y=y,\n",
    "  c=\"prediction\",\n",
    "  yerr=yerr,\n",
    "  title=\"Signal to Noise ratio of classified events\",\n",
    "  colormap='viridis'); pass\n",
    "\n",
    "plt.savefig(conf.SCREENSHOTS_DIR / \"snr_pred.jpg\")"
   ]
  },
  {
   "cell_type": "markdown",
   "id": "c716be59-72ae-4dba-ac80-d942c0c0704b",
   "metadata": {},
   "source": [
    "Clearly, most of the errors of our classifier are events with SNR <= 11."
   ]
  },
  {
   "cell_type": "code",
   "execution_count": 284,
   "id": "37c2e9ad-2898-40cf-bbac-3e6d4563f3ff",
   "metadata": {},
   "outputs": [
    {
     "data": {
      "image/png": "[encoded data removed]",
      "text/plain": [
       "<Figure size 432x288 with 1 Axes>"
      ]
     },
     "metadata": {
      "needs_background": "light"
     },
     "output_type": "display_data"
    }
   ],
   "source": [
    "df = xcatalog[[\"network_matched_filter_snr\", \"prediction\"]].dropna()\n",
    "df[\"snr\"] = df[\"network_matched_filter_snr\"].apply(lambda x: round(x, 0))\n",
    "del df[\"network_matched_filter_snr\"]\n",
    "\n",
    "ratios = {}\n",
    "for snr, rows in df.groupby(\"snr\"):\n",
    "  ratios[snr] = 100 * sum(rows[\"prediction\"]) / len(rows[\"prediction\"])\n",
    "\n",
    "plt.plot(ratios.keys(), ratios.values())\n",
    "plt.title(\"Sensitivity of csp_svm classifier vs SNR\")\n",
    "plt.ylabel(\"Sensitivity (%)\")\n",
    "plt.xlabel(\"Signal to Noise Ratio provided by GWOSC\")\n",
    "plt.savefig(conf.SCREENSHOTS_DIR / \"sensitivity-snr.jpg\")\n",
    "pass"
   ]
  },
  {
   "cell_type": "markdown",
   "id": "b770c0cc-86d2-4939-b357-68bc4a872644",
   "metadata": {},
   "source": [
    "### Mass ratios"
   ]
  },
  {
   "cell_type": "code",
   "execution_count": 228,
   "id": "81b549df-8e38-49b4-ba94-0b3c3dd79725",
   "metadata": {},
   "outputs": [
    {
     "data": {
      "image/png": "[encoded data removed]",
      "text/plain": [
       "<Figure size 432x288 with 2 Axes>"
      ]
     },
     "metadata": {
      "needs_background": "light"
     },
     "output_type": "display_data"
    }
   ],
   "source": [
    "x = \"mass_1_source\"\n",
    "y = \"mass_2_source\"\n",
    "\n",
    "xcatalog.plot.scatter(\n",
    "  x=x,\n",
    "  y=y,\n",
    "  c=\"prediction\",\n",
    "  colormap='viridis'); pass\n",
    "\n",
    "plt.rcParams['errorbar.capsize']=1"
   ]
  },
  {
   "cell_type": "code",
   "execution_count": null,
   "id": "3d3c12b6-ae50-4384-b487-b39b749f6374",
   "metadata": {},
   "outputs": [],
   "source": []
  }
 ],
 "metadata": {
  "kernelspec": {
   "display_name": "Python 3 (ipykernel)",
   "language": "python",
   "name": "python3"
  },
  "language_info": {
   "codemirror_mode": {
    "name": "ipython",
    "version": 3
   },
   "file_extension": ".py",
   "mimetype": "text/x-python",
   "name": "python",
   "nbconvert_exporter": "python",
   "pygments_lexer": "ipython3",
   "version": "3.9.9+"
  }
 },
 "nbformat": 4,
 "nbformat_minor": 5
}
